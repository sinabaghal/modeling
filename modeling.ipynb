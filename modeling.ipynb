{
 "cells": [
  {
   "cell_type": "markdown",
   "id": "1a27d1a7",
   "metadata": {},
   "source": [
    "### Heston Model\n",
    "\n",
    "Heston model is stochastic volatility (SV) model which unlike the conventional Black-Scholes model incorporates stochastic random volatility! This means that the volatility itself is governed by another stochastic process itself! Below we will describe ..."
   ]
  },
  {
   "cell_type": "code",
   "execution_count": null,
   "id": "742b4441",
   "metadata": {
    "vscode": {
     "languageId": "plaintext"
    }
   },
   "outputs": [],
   "source": []
  }
 ],
 "metadata": {
  "kernelspec": {
   "display_name": "Python 3 (ipykernel)",
   "language": "python",
   "name": "python3"
  },
  "language_info": {
   "codemirror_mode": {
    "name": "ipython",
    "version": 3
   },
   "file_extension": ".py",
   "mimetype": "text/x-python",
   "name": "python",
   "nbconvert_exporter": "python",
   "pygments_lexer": "ipython3",
   "version": "3.9.18"
  }
 },
 "nbformat": 4,
 "nbformat_minor": 5
}
